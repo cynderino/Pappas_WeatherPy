{
 "cells": [
  {
   "cell_type": "markdown",
   "metadata": {},
   "source": [
    "# WeatherPy\n",
    "----\n",
    "\n",
    "### Analysis\n",
    "* As expected, the weather becomes significantly warmer as one approaches the equator (0 Deg. Latitude). More interestingly, however, is the fact that the southern hemisphere tends to be warmer this time of year than the northern hemisphere. This may be due to the tilt of the earth.\n",
    "* There is no strong relationship between latitude and cloudiness. However, it is interesting to see that a strong band of cities sits at 0, 80, and 100% cloudiness.\n",
    "* There is no strong relationship between latitude and wind speed. However, in northern hemispheres there is a flurry of cities with over 20 mph of wind.\n",
    "\n",
    "---\n",
    "\n",
    "#### Note\n",
    "* Instructions have been included for each segment. You do not have to follow them exactly, but they are included to help you think through the steps."
   ]
  },
  {
   "cell_type": "code",
   "execution_count": null,
   "metadata": {
    "scrolled": true
   },
   "outputs": [],
   "source": [
    "# Dependencies and Setup\n",
    "from citipy import citipy\n",
    "import seaborn\n",
    "import pandas as pd\n",
    "import numpy as np\n",
    "import requests as req\n",
    "import json\n",
    "import random\n",
    "import time\n",
    "import matplotlib.pyplot as plt\n",
    "import datetime\n",
    "import csv\n",
    "import os\n",
    "\n",
    "# Pappas API key\n",
    "api_key = \"f9aab612271daa94c397b60a43e0590c\"\n",
    "#url = \"http://api.openweathermap.org/data/2.5/forecast?id=524901&APPID={f9aab612271daa94c397b60a43e0590c}\"\n",
    "#units = \"imperial\" #Fahrenheit\n",
    "\n",
    "# Output File (CSV)\n",
    "#output_data_file = \"output_data/city_list.csv\""
   ]
  },
  {
   "cell_type": "markdown",
   "metadata": {},
   "source": [
    "## Generate Cities List"
   ]
  },
  {
   "cell_type": "code",
   "execution_count": null,
   "metadata": {},
   "outputs": [],
   "source": [
    "# Generating random latitudes and longitudes\n",
    "lat = np.random.uniform(low=-90, high=90, size=1500)\n",
    "lng = np.random.uniform(low=-180, high=180, size=1500)\n",
    "\n",
    "# Creating coordinate pairs\n",
    "coordinates = []\n",
    "for x in range(0,len(lat)):\n",
    "    coordinates.append((lat[x], lng[x]))"
   ]
  },
  {
   "cell_type": "code",
   "execution_count": null,
   "metadata": {},
   "outputs": [],
   "source": [
    "# Finding the cities nearest to the coordinates\n",
    "cities = []\n",
    "for coordinate_pair in coordinates:\n",
    "    lat, lon = coordinate_pair\n",
    "    cities.append(citipy.nearest_city(lat, lon))\n",
    "\n",
    "# Creating DataFrame\n",
    "cities_df = pd.DataFrame(cities)\n",
    "cities_df[\"City Name\"] = \"\"\n",
    "cities_df[\"Country Code\"] = \"\"\n",
    "\n",
    "for index, row in cities_df.iterrows():\n",
    "    row[\"City Name\"] = cities_df.iloc[index,0].city_name\n",
    "    row[\"Country Code\"] = cities_df.iloc[index,0].country_code\n",
    "\n",
    "# Dropping duplicate cities\n",
    "cities_df.drop_duplicates(['City Name', 'Country Code'], inplace=True)\n",
    "cities_df.reset_index(inplace=True)\n",
    "\n",
    "# Deleting unnecessary columns\n",
    "del cities_df[0]\n",
    "del cities_df['index']\n",
    "\n",
    "cities_df.head()"
   ]
  },
  {
   "cell_type": "code",
   "execution_count": null,
   "metadata": {},
   "outputs": [],
   "source": [
    "cities_df['Latitude'] = \"\"\n",
    "cities_df['Longitude'] = \"\"\n",
    "cities_df['Temperature (F)'] = \"\"\n",
    "cities_df['Humidity (%)'] = \"\"\n",
    "cities_df['Cloudiness (%)'] = \"\"\n",
    "cities_df['Wind Speed (mph)'] = \"\"\n",
    "\n",
    "cities_df.head()"
   ]
  },
  {
   "cell_type": "markdown",
   "metadata": {},
   "source": [
    "### Perform API Calls\n",
    "* Perform a weather check on each city using a series of successive API calls.\n",
    "* Include a print log of each city as it'sbeing processed (with the city number and city name).\n"
   ]
  },
  {
   "cell_type": "code",
   "execution_count": null,
   "metadata": {},
   "outputs": [],
   "source": [
    "# Accessing data\n",
    "print(\"Beginning Data Retrieval\")\n",
    "print(\"_________________________\")\n",
    "\n",
    "# Limiting pull requests\n",
    "start_time = time.time()\n",
    "\n",
    "for index, row in cities_df.iterrows():\n",
    "    # Building target url\n",
    "    url = \"http://api.openweathermap.org/data/2.5/weather?q=%s,%s&units=imperial&appid=%s\" % (row['City Name'], row['Country Code'], api_key)\n",
    "   \n",
    "    # Printing to ensure loop is correct\n",
    "    print(\"Now retrieving City #\" + str(index) + \": \" + row['City Name'] + \", \" + row['Country Code'])\n",
    "    print(url)\n",
    "    \n",
    "    # Running request\n",
    "    weather_data = req.get(url).json()\n",
    "    \n",
    "    try:\n",
    "        # Appending latitude and longitude to correct location\n",
    "        row['Latitude'] = weather_data['coord']['lat']\n",
    "        row['Longitude'] = weather_data['coord']['lon']\n",
    "    \n",
    "        # Appending temperature to correct location\n",
    "        row['Temperature (F)'] = weather_data['main']['temp']\n",
    "    \n",
    "        # Appending humidity to correct location\n",
    "        row['Humidity (%)'] = weather_data['main']['humidity']\n",
    "    \n",
    "        # Appending cloudiness to correct location\n",
    "        row['Cloudiness (%)'] = weather_data['clouds']['all']\n",
    "    \n",
    "        # Appending wind speed to correct location\n",
    "        row['Wind Speed (mph)'] = weather_data['wind']['speed']\n",
    "    except:\n",
    "        print(\"City data error...skipping\")\n",
    "        continue\n",
    "        \n",
    "    # Pausing to limit pull requests\n",
    "    #if (index + 1) % 60 == 0:\n",
    "       # run_time = time.time() - start_time\n",
    "      #  time.sleep(60 - run_time)\n",
    "        #start_time = time.time()\n",
    "    \n",
    "print(\"_________________________\")\n",
    "print(\"Data Retrieval Complete\")\n",
    "print(\"_________________________\")\n",
    "\n",
    "# Changing strings to floats\n",
    "columns = ['Latitude', 'Temperature (F)', 'Humidity (%)', 'Cloudiness (%)', 'Wind Speed (mph)']\n",
    "for column in columns:\n",
    "    cities_df[column] = pd.to_numeric(cities_df[column], errors='coerce')\n",
    "    \n",
    "# Dropping NaN values\n",
    "cities_df.dropna(inplace=True)"
   ]
  },
  {
   "cell_type": "markdown",
   "metadata": {},
   "source": [
    "### Convert Raw Data to DataFrame\n",
    "* Export the city data into a .csv.\n",
    "* Display the DataFrame"
   ]
  },
  {
   "cell_type": "code",
   "execution_count": null,
   "metadata": {},
   "outputs": [],
   "source": [
    "cities_df.head"
   ]
  },
  {
   "cell_type": "code",
   "execution_count": null,
   "metadata": {},
   "outputs": [],
   "source": [
    "#Exporting to .csv\n",
    "cities_df.to_csv(\"Output/weather_info.csv\")\n"
   ]
  },
  {
   "cell_type": "markdown",
   "metadata": {},
   "source": [
    "### Plotting the Data\n",
    "* Use proper labeling of the plots using plot titles (including date of analysis) and axes labels.\n",
    "* Save the plotted figures as .pngs."
   ]
  },
  {
   "cell_type": "markdown",
   "metadata": {},
   "source": [
    "#### Latitude vs. Temperature Plot"
   ]
  },
  {
   "cell_type": "code",
   "execution_count": null,
   "metadata": {},
   "outputs": [],
   "source": [
    "# Axes values\n",
    "x_axis = cities_df['Latitude']\n",
    "y_axis = cities_df['Temperature (F)']\n",
    "\n",
    "plt.scatter(x_axis, y_axis, c='green', edgecolors='yellow')\n",
    "\n",
    "plt.title(\"City Latitude vs. Temperature\")\n",
    "plt.xlabel(\"Latitude\")\n",
    "plt.xlim(-60,90)\n",
    "plt.ylabel(\"Temperature (F)\")\n",
    "plt.ylim(-20,125)\n",
    "\n",
    "plt.savefig(\"Images/latVStemp.png\")\n",
    "plt.show()"
   ]
  },
  {
   "cell_type": "markdown",
   "metadata": {},
   "source": [
    "#### Latitude vs. Humidity Plot"
   ]
  },
  {
   "cell_type": "code",
   "execution_count": null,
   "metadata": {},
   "outputs": [],
   "source": [
    "# Axes values\n",
    "x_axis = cities_df['Latitude']\n",
    "y_axis = cities_df['Humidity (%)']\n",
    "\n",
    "plt.scatter(x_axis, y_axis, c='blue', edgecolors='purple', alpha=1)\n",
    "\n",
    "plt.title(\"City Latitude vs. Humidity\")\n",
    "plt.xlabel(\"Latitude\")\n",
    "plt.xlim(-60,90)\n",
    "plt.ylabel(\"Humidity (%)\")\n",
    "plt.ylim(-20,120)\n",
    "\n",
    "plt.savefig(\"Images/latVShum.png\")\n",
    "plt.show()"
   ]
  },
  {
   "cell_type": "markdown",
   "metadata": {},
   "source": [
    "#### Latitude vs. Cloudiness Plot"
   ]
  },
  {
   "cell_type": "code",
   "execution_count": null,
   "metadata": {},
   "outputs": [],
   "source": [
    "# Axes values\n",
    "x_axis = cities_df['Latitude']\n",
    "y_axis = cities_df['Cloudiness (%)']\n",
    "\n",
    "plt.scatter(x_axis, y_axis, c='navy', edgecolors='blue', alpha=1)\n",
    "\n",
    "plt.title(\"City Latitude vs. Cloudiness\")\n",
    "plt.xlabel(\"Latitude\")\n",
    "plt.xlim(-60,90)\n",
    "plt.ylabel(\"Cloudiness (%)\")\n",
    "plt.ylim(-20,120)\n",
    "\n",
    "plt.savefig(\"Images/latVScloud.png\")\n",
    "plt.show()"
   ]
  },
  {
   "cell_type": "markdown",
   "metadata": {},
   "source": [
    "#### Latitude vs. Wind Speed Plot"
   ]
  },
  {
   "cell_type": "code",
   "execution_count": null,
   "metadata": {},
   "outputs": [],
   "source": [
    "# Axes values\n",
    "x_axis = cities_df['Latitude']\n",
    "y_axis = cities_df['Wind Speed (mph)']\n",
    "\n",
    "plt.scatter(x_axis, y_axis, c='red', edgecolors='orange', alpha=1)\n",
    "\n",
    "plt.title(\"City Latitude vs. Wind Speed\")\n",
    "plt.xlabel(\"Latitude\")\n",
    "plt.xlim(-60,90)\n",
    "plt.ylabel(\"Wind Speed (mph)\")\n",
    "plt.ylim(-5,40)\n",
    "\n",
    "plt.savefig(\"Images/latVSwindspeed.png\")\n",
    "plt.show()"
   ]
  },
  {
   "cell_type": "code",
   "execution_count": null,
   "metadata": {},
   "outputs": [],
   "source": []
  }
 ],
 "metadata": {
  "anaconda-cloud": {},
  "kernelspec": {
   "display_name": "Python 3",
   "language": "python",
   "name": "python3"
  },
  "language_info": {
   "codemirror_mode": {
    "name": "ipython",
    "version": 3
   },
   "file_extension": ".py",
   "mimetype": "text/x-python",
   "name": "python",
   "nbconvert_exporter": "python",
   "pygments_lexer": "ipython3",
   "version": "3.6.5"
  }
 },
 "nbformat": 4,
 "nbformat_minor": 2
}
